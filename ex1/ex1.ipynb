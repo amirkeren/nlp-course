{
 "cells": [
  {
   "cell_type": "markdown",
   "metadata": {},
   "source": [
    "# NLP - Ex1"
   ]
  },
  {
   "cell_type": "markdown",
   "metadata": {},
   "source": [
    "## A Tale of Two Cities by Charles Dickens"
   ]
  },
  {
   "cell_type": "code",
   "execution_count": 28,
   "metadata": {
    "collapsed": true
   },
   "outputs": [],
   "source": [
    "import urllib2\n",
    "import math\n",
    "import string\n",
    "import operator\n",
    "\n",
    "import matplotlib.pyplot as plt\n",
    "\n",
    "from nltk.tokenize import RegexpTokenizer\n",
    "from nltk.corpus import stopwords\n",
    "from collections import Counter"
   ]
  },
  {
   "cell_type": "markdown",
   "metadata": {},
   "source": [
    "### Get the book text"
   ]
  },
  {
   "cell_type": "code",
   "execution_count": 2,
   "metadata": {
    "collapsed": true
   },
   "outputs": [],
   "source": [
    "book = urllib2.urlopen('http://www.gutenberg.org/files/98/98-0.txt').read().decode('utf8').lower()"
   ]
  },
  {
   "cell_type": "markdown",
   "metadata": {},
   "source": [
    "### Clean text that is not part of the book itself"
   ]
  },
  {
   "cell_type": "code",
   "execution_count": 3,
   "metadata": {
    "collapsed": true
   },
   "outputs": [],
   "source": [
    "start = 'it was the best of times,\\r\\nit was the worst of times,'\n",
    "end = 'far better rest that i go to than i have ever known.'\n",
    "\n",
    "book = (book[book.index(start):book.index(end) + 50]\n",
    "        .replace('i. the period', '').replace('ii. the mail', '')\n",
    "        .replace('iii. the night shadows', '').replace('iv. the preparation', '')\n",
    "        .replace('v. the wine-shop', '').replace('vi. the shoemaker', '')\n",
    "        .replace('i. five years later', '').replace('ii. a sight', '')\n",
    "        .replace('iii. a disappointment', '').replace('iv. congratulatory', '')\n",
    "        .replace('v. the jackal', '').replace('vi. hundreds of people', '')\n",
    "        .replace('vii. monseigneur in town', '').replace('viii. monseigneur in the country', '')\n",
    "        .replace(\"ix. the gorgon's head\", '').replace('x. two promises', '')\n",
    "        .replace('xi. a companion picture', '').replace('xii. the fellow of delicacy', '')\n",
    "        .replace('xiii. the fellow of no delicacy', '').replace('xiv. the honest tradesman', '')\n",
    "        .replace('xv. knitting', '').replace('xvi. still knitting', '')\n",
    "        .replace('xvii. one night', '').replace('xviii. nine days', '')\n",
    "        .replace('xix. an opinion', '').replace('xx. a plea', '')\n",
    "        .replace('xxi. echoing footsteps', '').replace('xxii. the sea still rises', '')\n",
    "        .replace('xxiii. fire rises', '').replace('xxiv. drawn to the loadstone rock', '')\n",
    "        .replace('i. in secret', '').replace('ii. the grindstone', '')\n",
    "        .replace('iii. the shadow', '').replace('iv. calm in storm', '')\n",
    "        .replace('v. the wood-sawyer', '').replace('vi. triumph', '')\n",
    "        .replace('vii. a knock at the door', '').replace('viii. a hand at cards', '')\n",
    "        .replace('ix. the game made', '').replace('x. the substance of the shadow', '')\n",
    "        .replace('xi. dusk', '').replace('xii. darkness', '').replace('xiii. fifty-two', '')\n",
    "        .replace('xiv. the knitting done', '').replace('xv. the footsteps die out for ever', ''))"
   ]
  },
  {
   "cell_type": "markdown",
   "metadata": {},
   "source": [
    "### Tokenize and remove stop words and punctuation"
   ]
  },
  {
   "cell_type": "code",
   "execution_count": 4,
   "metadata": {
    "collapsed": true
   },
   "outputs": [],
   "source": [
    "tokens = RegexpTokenizer(r'\\w+').tokenize(book)\n",
    "tokens = [token for token in tokens if token not in stopwords.words('english')]\n",
    "histogram = Counter(tokens)"
   ]
  },
  {
   "cell_type": "markdown",
   "metadata": {},
   "source": [
    "### Q4-A"
   ]
  },
  {
   "cell_type": "code",
   "execution_count": 32,
   "metadata": {},
   "outputs": [
    {
     "name": "stdout",
     "output_type": "stream",
     "text": [
      "  17.47%\n",
      "e 10.31%\n",
      "t 7.41%\n",
      "a 6.66%\n",
      "o 6.38%\n",
      "n 5.84%\n",
      "i 5.62%\n",
      "h 5.43%\n",
      "s 5.20%\n",
      "r 5.09%\n",
      "d 3.89%\n",
      "l 3.05%\n",
      "u 2.30%\n",
      "m 2.11%\n",
      "w 1.96%\n",
      "c 1.87%\n",
      "f 1.86%\n",
      "g 1.71%\n",
      "y 1.68%\n",
      "p 1.34%\n",
      "b 1.15%\n",
      "v 0.71%\n",
      "k 0.65%\n",
      "q 0.09%\n",
      "x 0.09%\n",
      "j 0.09%\n",
      "z 0.03%\n"
     ]
    }
   ],
   "source": [
    "total = 0.0\n",
    "histogram = {}\n",
    "for char in string.ascii_lowercase + ' ':\n",
    "    count = book.count(char)\n",
    "    total += count\n",
    "    histogram[char] = count\n",
    "histogram = sorted(histogram.items(), key=operator.itemgetter(1), reverse=True)\n",
    "for key, value in histogram:\n",
    "    print key, \"{0:.2f}%\".format(value / total * 100)\n",
    "\n",
    "#TODO"
   ]
  },
  {
   "cell_type": "markdown",
   "metadata": {},
   "source": [
    "### Q4-B"
   ]
  },
  {
   "cell_type": "code",
   "execution_count": 6,
   "metadata": {
    "collapsed": true
   },
   "outputs": [],
   "source": [
    "#TODO"
   ]
  },
  {
   "cell_type": "markdown",
   "metadata": {},
   "source": [
    "### Q5-A"
   ]
  },
  {
   "cell_type": "code",
   "execution_count": 7,
   "metadata": {},
   "outputs": [
    {
     "name": "stdout",
     "output_type": "stream",
     "text": [
      "number of tokens: 64079\n",
      "number of word types: 9565\n"
     ]
    }
   ],
   "source": [
    "print 'number of tokens:', len(tokens)\n",
    "print 'number of word types:', len(histogram)"
   ]
  },
  {
   "cell_type": "markdown",
   "metadata": {},
   "source": [
    "### Q5-B"
   ]
  },
  {
   "cell_type": "code",
   "execution_count": 8,
   "metadata": {},
   "outputs": [
    {
     "data": {
      "image/png": "[encoded data removed]",
      "text/plain": [
       "<matplotlib.figure.Figure at 0x10da861d0>"
      ]
     },
     "metadata": {},
     "output_type": "display_data"
    }
   ],
   "source": [
    "x_axis = []\n",
    "y_axis = []\n",
    "for rank, word in enumerate(histogram.most_common()):\n",
    "    x_axis.append(math.log(rank + 1))\n",
    "    y_axis.append(math.log(word[1]))\n",
    "plt.plot(x_axis, y_axis)\n",
    "plt.xlabel('log(r)')\n",
    "plt.ylabel('log(f)')\n",
    "plt.show()"
   ]
  }
 ],
 "metadata": {
  "kernelspec": {
   "display_name": "Python 2",
   "language": "python",
   "name": "python2"
  },
  "language_info": {
   "codemirror_mode": {
    "name": "ipython",
    "version": 2
   },
   "file_extension": ".py",
   "mimetype": "text/x-python",
   "name": "python",
   "nbconvert_exporter": "python",
   "pygments_lexer": "ipython2",
   "version": "2.7.14"
  }
 },
 "nbformat": 4,
 "nbformat_minor": 2
}
