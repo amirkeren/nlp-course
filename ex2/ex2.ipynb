{
 "cells": [
  {
   "cell_type": "markdown",
   "metadata": {},
   "source": [
    "# Ex2"
   ]
  },
  {
   "cell_type": "markdown",
   "metadata": {},
   "source": [
    "## Q1"
   ]
  },
  {
   "cell_type": "markdown",
   "metadata": {},
   "source": [
    "TBD"
   ]
  },
  {
   "cell_type": "markdown",
   "metadata": {},
   "source": [
    "## Q2"
   ]
  },
  {
   "cell_type": "markdown",
   "metadata": {},
   "source": [
    "TBD"
   ]
  },
  {
   "cell_type": "markdown",
   "metadata": {},
   "source": [
    "## Q3"
   ]
  },
  {
   "cell_type": "markdown",
   "metadata": {},
   "source": [
    "TBD"
   ]
  },
  {
   "cell_type": "markdown",
   "metadata": {},
   "source": [
    "## Q4"
   ]
  },
  {
   "cell_type": "markdown",
   "metadata": {},
   "source": [
    "### Get Corpus and Dictionary"
   ]
  },
  {
   "cell_type": "code",
   "execution_count": 1,
   "metadata": {},
   "outputs": [],
   "source": [
    "import urllib2\n",
    "import zipfile\n",
    "import os\n",
    "\n",
    "OOV = 'OOV'\n",
    "NUM = 'NUM'\n",
    "data_folder = 'corpus_combined'\n",
    "corpus_file = data_folder + '.zip'\n",
    "\n",
    "if not os.path.exists(data_folder):\n",
    "    os.makedirs(data_folder)\n",
    "    \n",
    "response = urllib2.urlopen('http://www2.mta.ac.il/~gideon/courses/nlp/data/' + corpus_file)\n",
    "zipcontent = response.read()\n",
    "\n",
    "with open(corpus_file, 'w') as f:\n",
    "    f.write(zipcontent)\n",
    "    \n",
    "zip_ref = zipfile.ZipFile(corpus_file, 'r')\n",
    "zip_ref.extractall(data_folder)\n",
    "zip_ref.close()\n",
    "\n",
    "os.remove(corpus_file)\n",
    "\n",
    "response = urllib2.urlopen('http://www2.mta.ac.il/~gideon/courses/nlp/data/word_list_20k.txt')\n",
    "dictionary = response.read().split('\\n')\n",
    "dictionary.append(OOV)\n",
    "dictionary.append(NUM)\n",
    "dictionary.remove('')"
   ]
  },
  {
   "cell_type": "markdown",
   "metadata": {},
   "source": [
    "### Prepare training and test set"
   ]
  },
  {
   "cell_type": "code",
   "execution_count": 2,
   "metadata": {},
   "outputs": [],
   "source": [
    "import urllib2\n",
    "\n",
    "# training\n",
    "kidnapped = urllib2.urlopen('http://www.gutenberg.org/files/421/421-0.txt').read().decode('utf8')\n",
    "oliver_twist = urllib2.urlopen('http://www.gutenberg.org/ebooks/730.txt.utf-8').read().decode('utf8')\n",
    "training = [kidnapped, oliver_twist]\n",
    "# testing\n",
    "persuasion = open(data_folder + '/persuasion.txt', 'r').read()\n",
    "testing = [persuasion]"
   ]
  },
  {
   "cell_type": "markdown",
   "metadata": {},
   "source": [
    "### Hyperparameter Tuning"
   ]
  },
  {
   "cell_type": "code",
   "execution_count": 3,
   "metadata": {},
   "outputs": [],
   "source": [
    "hyperparameters = {\n",
    "    'lowercase': True,\n",
    "    'stemming': False,\n",
    "    'remove_stopwords': True\n",
    "}"
   ]
  },
  {
   "cell_type": "markdown",
   "metadata": {},
   "source": [
    "### Pre-Processing"
   ]
  },
  {
   "cell_type": "code",
   "execution_count": 4,
   "metadata": {},
   "outputs": [],
   "source": [
    "from chapterize import Book\n",
    "from nltk.tokenize import word_tokenize\n",
    "from nltk.corpus import stopwords\n",
    "from nltk.stem import PorterStemmer\n",
    "\n",
    "# for book in training:\n",
    "# removing header, footer and chapters\n",
    "# book = Book(book).getContent()\n",
    "book = Book(kidnapped).getContent()\n",
    "if hyperparameters['lowercase']:\n",
    "    # lowercasing\n",
    "    book = book.lower()\n",
    "# tokenizing\n",
    "tokens = word_tokenize(book)\n",
    "ps = PorterStemmer()\n",
    "if hyperparameters['remove_stopwords']:\n",
    "    # removing stopwords\n",
    "    tokens = [token for token in tokens if token not in set(stopwords.words('english'))]        \n",
    "if hyperparameters['stemming']:\n",
    "    # stemming\n",
    "    tokens = [ps.stem(token) for token in tokens]\n",
    "missing_words = set([item for item in tokens if item not in dictionary])\n",
    "tokens_backup = list(tokens)\n",
    "for (i, token) in enumerate(tokens):\n",
    "    if token in missing_words:\n",
    "        if token.isdigit():\n",
    "            tokens[i] = NUM\n",
    "        else:\n",
    "            tokens[i] = OOV"
   ]
  },
  {
   "cell_type": "markdown",
   "metadata": {},
   "source": [
    "### Unigram"
   ]
  },
  {
   "cell_type": "code",
   "execution_count": 5,
   "metadata": {},
   "outputs": [],
   "source": [
    "model = {word: tokens.count(word) for word in dictionary}"
   ]
  },
  {
   "cell_type": "code",
   "execution_count": 6,
   "metadata": {},
   "outputs": [
    {
     "data": {
      "text/plain": [
       "0.3901159685664149"
      ]
     },
     "execution_count": 6,
     "metadata": {},
     "output_type": "execute_result"
    }
   ],
   "source": [
    "from __future__ import division\n",
    "\n",
    "model['OOV'] / len(tokens)"
   ]
  },
  {
   "cell_type": "markdown",
   "metadata": {},
   "source": [
    "### Bigram"
   ]
  },
  {
   "cell_type": "code",
   "execution_count": 7,
   "metadata": {},
   "outputs": [],
   "source": [
    "#TODO"
   ]
  },
  {
   "cell_type": "markdown",
   "metadata": {},
   "source": [
    "### Trigram"
   ]
  },
  {
   "cell_type": "code",
   "execution_count": 8,
   "metadata": {},
   "outputs": [],
   "source": [
    "#TODO"
   ]
  }
 ],
 "metadata": {
  "kernelspec": {
   "display_name": "Python 2",
   "language": "python",
   "name": "python2"
  },
  "language_info": {
   "codemirror_mode": {
    "name": "ipython",
    "version": 2
   },
   "file_extension": ".py",
   "mimetype": "text/x-python",
   "name": "python",
   "nbconvert_exporter": "python",
   "pygments_lexer": "ipython2",
   "version": "2.7.14"
  }
 },
 "nbformat": 4,
 "nbformat_minor": 2
}
