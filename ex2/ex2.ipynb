{
 "cells": [
  {
   "cell_type": "markdown",
   "metadata": {},
   "source": [
    "# Ex2"
   ]
  },
  {
   "cell_type": "markdown",
   "metadata": {},
   "source": [
    "## Q1"
   ]
  },
  {
   "cell_type": "markdown",
   "metadata": {},
   "source": [
    "TBD"
   ]
  },
  {
   "cell_type": "markdown",
   "metadata": {},
   "source": [
    "## Q2"
   ]
  },
  {
   "cell_type": "markdown",
   "metadata": {},
   "source": [
    "TBD"
   ]
  },
  {
   "cell_type": "markdown",
   "metadata": {},
   "source": [
    "## Q3"
   ]
  },
  {
   "cell_type": "markdown",
   "metadata": {},
   "source": [
    "TBD"
   ]
  },
  {
   "cell_type": "markdown",
   "metadata": {},
   "source": [
    "## Q4"
   ]
  },
  {
   "cell_type": "markdown",
   "metadata": {},
   "source": [
    "### Get Corpus and Dictionary"
   ]
  },
  {
   "cell_type": "code",
   "execution_count": 1,
   "metadata": {},
   "outputs": [],
   "source": [
    "import urllib2\n",
    "import zipfile\n",
    "import os\n",
    "\n",
    "data_folder = 'corpus_combined'\n",
    "corpus_file = data_folder + '.zip'\n",
    "\n",
    "if not os.path.exists(data_folder):\n",
    "    os.makedirs(data_folder)\n",
    "    \n",
    "response = urllib2.urlopen('http://www2.mta.ac.il/~gideon/courses/nlp/data/' + corpus_file)\n",
    "zipcontent = response.read()\n",
    "with open(corpus_file, 'w') as f:\n",
    "    f.write(zipcontent)\n",
    "zip_ref = zipfile.ZipFile(corpus_file, 'r')\n",
    "zip_ref.extractall(data_folder)\n",
    "zip_ref.close()\n",
    "os.remove(corpus_file)\n",
    "\n",
    "response = urllib2.urlopen('http://www2.mta.ac.il/~gideon/courses/nlp/data/word_list_20k.txt')\n",
    "dictionary = response.read().split('\\n')\n",
    "dictionary.remove('')"
   ]
  },
  {
   "cell_type": "markdown",
   "metadata": {},
   "source": [
    "### Prepare training and test set"
   ]
  },
  {
   "cell_type": "code",
   "execution_count": 2,
   "metadata": {},
   "outputs": [],
   "source": [
    "import urllib2\n",
    "\n",
    "# training\n",
    "response = urllib2.urlopen('http://www.gutenberg.org/files/421/421-0.txt')\n",
    "kidnapped = response.read().decode('utf8')\n",
    "response = urllib2.urlopen('http://www.gutenberg.org/ebooks/730.txt.utf-8')\n",
    "oliver_twist = response.read().decode('utf8')\n",
    "training_dataset = [kidnapped, oliver_twist]\n",
    "\n",
    "# validation\n",
    "response = urllib2.urlopen('http://www.gutenberg.org/files/98/98-0.txt')\n",
    "a_tail_of_two_cities = response.read().decode('utf8')\n",
    "validation_dataset = [a_tail_of_two_cities]\n",
    "\n",
    "# testing\n",
    "persuasion = open(data_folder + '/persuasion.txt', 'r').read()\n",
    "testing_dataset = [persuasion]"
   ]
  },
  {
   "cell_type": "markdown",
   "metadata": {},
   "source": [
    "### Hyperparameter Tuning"
   ]
  },
  {
   "cell_type": "code",
   "execution_count": 3,
   "metadata": {},
   "outputs": [],
   "source": [
    "hyperparameters = {\n",
    "    'lowercase': True,\n",
    "    'stemming': True,\n",
    "    'remove_stopwords': True,\n",
    "    'smoothing': True,\n",
    "    'lambda': 0.5\n",
    "}"
   ]
  },
  {
   "cell_type": "markdown",
   "metadata": {},
   "source": [
    "### Pre-Processing"
   ]
  },
  {
   "cell_type": "code",
   "execution_count": null,
   "metadata": {},
   "outputs": [],
   "source": [
    "from chapterize import Book\n",
    "from nltk.tokenize import word_tokenize\n",
    "\n",
    "OOV = 'OOV'\n",
    "NUM = 'NUM'\n",
    "\n",
    "# removing header, footer and chapters\n",
    "training = ''\n",
    "for book in training_dataset:\n",
    "    training += Book(book).getContent() + ' '\n",
    "validation = ''\n",
    "for book in validation_dataset:\n",
    "    validation += Book(book).getContent() + ' '\n",
    "testing = ''\n",
    "for book in testing_dataset:\n",
    "    testing += Book(book).getContent() + ' '\n",
    "\n",
    "# lowercasing\n",
    "if hyperparameters['lowercase']:\n",
    "    training = training.lower()\n",
    "    validation = validation.lower()\n",
    "    testing = testing.lower()\n",
    "    dictionary = [word.lower() for word in dictionary]\n",
    "    \n",
    "# tokenizing\n",
    "training = word_tokenize(training)\n",
    "validation = word_tokenize(validation)\n",
    "testing = word_tokenize(testing)\n",
    "\n",
    "# removing stopwords\n",
    "if hyperparameters['remove_stopwords']:\n",
    "    from nltk.corpus import stopwords\n",
    "    \n",
    "    stopwords_set = set(stopwords.words('english'))\n",
    "    training = [token for token in training if token not in stopwords_set]\n",
    "    validation = [token for token in validation if token not in stopwords_set]\n",
    "    testing = [token for token in testing if token not in stopwords_set]\n",
    "    dictionary = [word for word in dictionary if word not in stopwords_set]\n",
    "    \n",
    "# stemming\n",
    "if hyperparameters['stemming']:\n",
    "    from nltk.stem import PorterStemmer\n",
    "    \n",
    "    ps = PorterStemmer()\n",
    "    training = [ps.stem(token) for token in training]\n",
    "    validation = [ps.stem(token) for token in validation]\n",
    "    testing = [ps.stem(token) for token in testing]\n",
    "    dictionary = [ps.stem(word) for word in dictionary]\n",
    "\n",
    "dictionary.append(OOV)\n",
    "dictionary.append(NUM)\n",
    "\n",
    "# replacing OOV and NUM tokens\n",
    "missing_tokens = set([token for token in training if token not in dictionary])\n",
    "for (i, token) in enumerate(training):\n",
    "    if token in missing_tokens:\n",
    "        if token.isdigit():\n",
    "            training[i] = NUM\n",
    "        else:\n",
    "            training[i] = OOV\n",
    "            \n",
    "missing_tokens = set([token for token in validation if token not in dictionary])\n",
    "for (i, token) in enumerate(validation):\n",
    "    if token in missing_tokens:\n",
    "        if token.isdigit():\n",
    "            validation[i] = NUM\n",
    "        else:\n",
    "            validation[i] = OOV\n",
    "\n",
    "missing_tokens = set([token for token in testing if token not in dictionary])\n",
    "for (i, token) in enumerate(testing):\n",
    "    if token in missing_tokens:\n",
    "        if token.isdigit():\n",
    "            testing[i] = NUM\n",
    "        else:\n",
    "            testing[i] = OOV"
   ]
  },
  {
   "cell_type": "markdown",
   "metadata": {},
   "source": [
    "### Training"
   ]
  },
  {
   "cell_type": "code",
   "execution_count": null,
   "metadata": {},
   "outputs": [],
   "source": [
    "def train_ngram_model(tokens):\n",
    "    model = {}\n",
    "    for token in tokens:\n",
    "        model[token] = model.get(token, 0) + 1\n",
    "    return model"
   ]
  },
  {
   "cell_type": "code",
   "execution_count": null,
   "metadata": {},
   "outputs": [],
   "source": [
    "from nltk import bigrams, trigrams\n",
    "\n",
    "# unigram\n",
    "unigram_model = train_ngram_model(training)\n",
    "\n",
    "# bigram\n",
    "bigram_model = train_ngram_model(list(bigrams(training)))\n",
    "\n",
    "# unigram\n",
    "trigram_model = train_ngram_model(list(trigrams(training)))"
   ]
  },
  {
   "cell_type": "markdown",
   "metadata": {},
   "source": [
    "### Validation"
   ]
  },
  {
   "cell_type": "code",
   "execution_count": null,
   "metadata": {},
   "outputs": [],
   "source": [
    "from __future__ import division\n",
    "\n",
    "def cross_entropy(tokens, model):\n",
    "    import math\n",
    "    \n",
    "    if hyperparameters['smoothing']:\n",
    "        total_sum = 0.0\n",
    "        l = hyperparameters['lambda']\n",
    "        v = len(set(tokens))\n",
    "        for token in tokens:\n",
    "            total_sum += -math.log((model.get(token, 0) + l) / (len(tokens) + l * v), 2)\n",
    "        return 1 / len(tokens) * total_sum\n",
    "    else:\n",
    "        return 1 / len(tokens) * sum([-math.log(model[token] / len(tokens), 2) \n",
    "                                     for token in tokens\n",
    "                                        if token in model and model[token] > 0])"
   ]
  },
  {
   "cell_type": "code",
   "execution_count": null,
   "metadata": {},
   "outputs": [],
   "source": [
    "from nltk import bigrams, trigrams\n",
    "\n",
    "# unigram\n",
    "result = cross_entropy(validation, unigram_model)\n",
    "print 'Validation Unigram Cross-Entropy is:', '{0:.2f}'.format(result)\n",
    "\n",
    "# bigram\n",
    "result = cross_entropy(list(bigrams(validation)), bigram_model)\n",
    "print 'Validation Bigram Cross-Entropy is:', '{0:.2f}'.format(result)\n",
    "\n",
    "# trigram\n",
    "result = cross_entropy(list(trigrams(validation)), trigram_model)\n",
    "print 'Validation Trigram Cross-Entropy is:', '{0:.2f}'.format(result)"
   ]
  },
  {
   "cell_type": "markdown",
   "metadata": {},
   "source": [
    "### Testing"
   ]
  },
  {
   "cell_type": "code",
   "execution_count": null,
   "metadata": {},
   "outputs": [],
   "source": [
    "from nltk import bigrams, trigrams\n",
    "\n",
    "# unigram\n",
    "result = cross_entropy(testing, unigram_model)\n",
    "print 'Testing Unigram Cross-Entropy is:', '{0:.2f}'.format(result)\n",
    "\n",
    "# bigram\n",
    "result = cross_entropy(list(bigrams(testing)), bigram_model)\n",
    "print 'Testing Bigram Cross-Entropy is:', '{0:.2f}'.format(result)\n",
    "\n",
    "# trigram\n",
    "result = cross_entropy(list(trigrams(testing)), trigram_model)\n",
    "print 'Testing Trigram Cross-Entropy is:', '{0:.2f}'.format(result)"
   ]
  },
  {
   "cell_type": "markdown",
   "metadata": {},
   "source": [
    "### Conclusion"
   ]
  },
  {
   "cell_type": "markdown",
   "metadata": {},
   "source": [
    "A. For this exercise I used my own code written in Python using the nltk library. To remove chapter names, headers and footers I used [this](https://github.com/JonathanReeve/chapterize) open-source library.\n",
    "\n",
    "B. For the training dataset I used **Kidnapped** by *Robert Louis Stevenson* and **Oliver Twist** by *Charles Dickens*. For validation purposes I used **A Tale of Two Cities** by *Charles Dickens*.\n",
    "\n",
    "C. I used Additive/Lidstone Smoothing with &lambda; = 0.5\n",
    "\n",
    "D. Yes, using nltk's word_tokenize I removed all \"noisy\" characters and left only words \n",
    "\n",
    "E. I used three language models - \n",
    "    1. Unigram\n",
    "    2. Bigram\n",
    "    3. Trigram\n",
    "    \n",
    "Results are as follows - \n",
    "\n",
    "<table>\n",
    "    <tr><td>Lowercase</td><td>Stemming</td><td>No Stopwords</td><td>Unigram</td><td>Bigram</td><td>Trigram</td></tr>\n",
    "    <tr><td>True</td><td>True</td><td>True</td><td>7.12</td><td>13.31</td><td>16.19</td></tr>\n",
    "    <tr><td>True</td><td>True</td><td>False</td><td>6.91</td><td>13.20</td><td>16.63</td></tr>\n",
    "    <tr><td>True</td><td>False</td><td>True</td><td>7.53</td><td>13.59</td><td>16.26</td></tr>\n",
    "    <tr><td>True</td><td>False</td><td>False</td><td>7.17</td><td>13.35</td><td>16.67</td></tr>\n",
    "    <tr><td>False</td><td>True</td><td>True</td><td>6.68</td><td>12.58</td><td>15.61</td></tr>\n",
    "    <tr><td>False</td><td>True</td><td>False</td><td>6.78</td><td>13.02</td><td>16.47</td></tr>\n",
    "    <tr><td><b>False</b></td><td><b>False</b></td><td><b>True</b></td><td><b>6.01</b></td><td><b>11.33</b></td><td><b>14.41</b></td></tr>\n",
    "    <tr><td>False</td><td>False</td><td>False</td><td>6.36</td><td>12.18</td><td>15.61</td></tr>\n",
    "</table>\n",
    "\n",
    "F. I performed hyperparameter tuning on the smoothing lambda value and during the pre-processing (i.e. remove stopwords, run stemming etc.)\n",
    "\n",
    "G. Yes\n",
    "\n",
    "H. I used the provided dictionary\n",
    "\n",
    "I. For missing words I used the token OOV and for missing numbers I used the token NUM\n",
    "\n",
    "J. <b>???</b>"
   ]
  }
 ],
 "metadata": {
  "kernelspec": {
   "display_name": "Python 2",
   "language": "python",
   "name": "python2"
  },
  "language_info": {
   "codemirror_mode": {
    "name": "ipython",
    "version": 2
   },
   "file_extension": ".py",
   "mimetype": "text/x-python",
   "name": "python",
   "nbconvert_exporter": "python",
   "pygments_lexer": "ipython2",
   "version": "2.7.14"
  }
 },
 "nbformat": 4,
 "nbformat_minor": 2
}
