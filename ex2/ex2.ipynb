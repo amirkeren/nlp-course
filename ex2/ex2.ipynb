{
 "cells": [
  {
   "cell_type": "markdown",
   "metadata": {},
   "source": [
    "# Ex2"
   ]
  },
  {
   "cell_type": "markdown",
   "metadata": {},
   "source": [
    "## Q1"
   ]
  },
  {
   "cell_type": "markdown",
   "metadata": {},
   "source": [
    "TBD"
   ]
  },
  {
   "cell_type": "markdown",
   "metadata": {},
   "source": [
    "## Q2"
   ]
  },
  {
   "cell_type": "markdown",
   "metadata": {},
   "source": [
    "TBD"
   ]
  },
  {
   "cell_type": "markdown",
   "metadata": {},
   "source": [
    "## Q3"
   ]
  },
  {
   "cell_type": "markdown",
   "metadata": {},
   "source": [
    "TBD"
   ]
  },
  {
   "cell_type": "markdown",
   "metadata": {},
   "source": [
    "## Q4"
   ]
  },
  {
   "cell_type": "markdown",
   "metadata": {},
   "source": [
    "### Get Corpus and Dictionary"
   ]
  },
  {
   "cell_type": "code",
   "execution_count": 1,
   "metadata": {},
   "outputs": [],
   "source": [
    "import urllib2\n",
    "import zipfile\n",
    "import os\n",
    "\n",
    "data_folder = 'corpus_combined'\n",
    "corpus_file = data_folder + '.zip'\n",
    "\n",
    "if not os.path.exists(data_folder):\n",
    "    os.makedirs(data_folder)\n",
    "    \n",
    "zipcontent = urllib2.urlopen('http://www2.mta.ac.il/~gideon/courses/nlp/data/' + corpus_file).read()\n",
    "with open(corpus_file, 'w') as f:\n",
    "    f.write(zipcontent)\n",
    "zip_ref = zipfile.ZipFile(corpus_file, 'r')\n",
    "zip_ref.extractall(data_folder)\n",
    "zip_ref.close()\n",
    "os.remove(corpus_file)\n",
    "\n",
    "response = urllib2.urlopen('http://www2.mta.ac.il/~gideon/courses/nlp/data/word_list_20k.txt')\n",
    "dictionary = response.read().split('\\n')\n",
    "dictionary.remove('')"
   ]
  },
  {
   "cell_type": "markdown",
   "metadata": {},
   "source": [
    "### Prepare training and test set"
   ]
  },
  {
   "cell_type": "code",
   "execution_count": 2,
   "metadata": {},
   "outputs": [],
   "source": [
    "import urllib2\n",
    "\n",
    "# training\n",
    "kidnapped = urllib2.urlopen('http://www.gutenberg.org/files/421/421-0.txt').read().decode('utf8')\n",
    "oliver_twist = urllib2.urlopen('http://www.gutenberg.org/ebooks/730.txt.utf-8').read().decode('utf8')\n",
    "training_set = [kidnapped, oliver_twist]\n",
    "\n",
    "# testing\n",
    "persuasion = open(data_folder + '/persuasion.txt', 'r').read()\n",
    "testing_set = [persuasion]"
   ]
  },
  {
   "cell_type": "markdown",
   "metadata": {},
   "source": [
    "### Hyperparameter Tuning"
   ]
  },
  {
   "cell_type": "code",
   "execution_count": 3,
   "metadata": {},
   "outputs": [],
   "source": [
    "hyperparameters = {\n",
    "    'lowercase': True,\n",
    "    'stemming': False,\n",
    "    'remove_stopwords': False,\n",
    "    'max_length': -1\n",
    "}"
   ]
  },
  {
   "cell_type": "markdown",
   "metadata": {},
   "source": [
    "### Pre-Processing"
   ]
  },
  {
   "cell_type": "code",
   "execution_count": 4,
   "metadata": {},
   "outputs": [],
   "source": [
    "from chapterize import Book\n",
    "from nltk.tokenize import word_tokenize\n",
    "\n",
    "OOV = 'OOV'\n",
    "NUM = 'NUM'\n",
    "\n",
    "# removing header, footer and chapters\n",
    "training = ''\n",
    "for book in training_set:\n",
    "    training += Book(book).getContent()\n",
    "testing = ''\n",
    "for book in testing_set:\n",
    "    testing += Book(book).getContent() + ' '\n",
    "\n",
    "# lowercasing\n",
    "if hyperparameters['lowercase']:\n",
    "    training = training.lower()\n",
    "    testing = testing.lower()\n",
    "    dictionary = [word.lower() for word in dictionary]\n",
    "    \n",
    "# tokenizing\n",
    "training = word_tokenize(training)\n",
    "testing = word_tokenize(testing)\n",
    "\n",
    "# removing stopwords\n",
    "if hyperparameters['remove_stopwords']:\n",
    "    from nltk.corpus import stopwords\n",
    "    training = [token for token in training if token not in set(stopwords.words('english'))]\n",
    "    testing = [token for token in testing if token not in set(stopwords.words('english'))]\n",
    "    dictionary = [word for word in dictionary if word not in set(stopwords.words('english'))]\n",
    "    \n",
    "# stemming\n",
    "if hyperparameters['stemming']:\n",
    "    from nltk.stem import PorterStemmer\n",
    "    ps = PorterStemmer()\n",
    "    training = [ps.stem(token) for token in training]\n",
    "    testing = [ps.stem(token) for token in testing]\n",
    "    dictionary = [ps.stem(word) for word in dictionary]\n",
    "\n",
    "dictionary.append(OOV)\n",
    "dictionary.append(NUM)\n",
    "\n",
    "# replacing OOV and NUM tokens\n",
    "missing_tokens = set([token for token in training if token not in dictionary])\n",
    "for (i, token) in enumerate(training):\n",
    "    if token in missing_tokens:\n",
    "        if token.isdigit():\n",
    "            training[i] = NUM\n",
    "        else:\n",
    "            training[i] = OOV\n",
    "\n",
    "missing_tokens = set([token for token in testing if token not in dictionary])\n",
    "for (i, token) in enumerate(testing):\n",
    "    if token in missing_tokens:\n",
    "        if token.isdigit():\n",
    "            testing[i] = NUM\n",
    "        else:\n",
    "            testing[i] = OOV"
   ]
  },
  {
   "cell_type": "markdown",
   "metadata": {},
   "source": [
    "### Unigram"
   ]
  },
  {
   "cell_type": "markdown",
   "metadata": {},
   "source": [
    "#### Training"
   ]
  },
  {
   "cell_type": "code",
   "execution_count": 5,
   "metadata": {},
   "outputs": [],
   "source": [
    "unigram_model = {word: training.count(word) for word in dictionary}"
   ]
  },
  {
   "cell_type": "markdown",
   "metadata": {},
   "source": [
    "#### Testing"
   ]
  },
  {
   "cell_type": "code",
   "execution_count": 6,
   "metadata": {},
   "outputs": [
    {
     "data": {
      "text/plain": [
       "0.22163537649511159"
      ]
     },
     "execution_count": 6,
     "metadata": {},
     "output_type": "execute_result"
    }
   ],
   "source": [
    "from __future__ import division\n",
    "\n",
    "unigram_model['OOV'] / len(training)"
   ]
  },
  {
   "cell_type": "markdown",
   "metadata": {},
   "source": [
    "### Bigram"
   ]
  },
  {
   "cell_type": "markdown",
   "metadata": {},
   "source": [
    "#### Training"
   ]
  },
  {
   "cell_type": "code",
   "execution_count": 9,
   "metadata": {},
   "outputs": [],
   "source": [
    "from nltk import bigrams\n",
    "from itertools import product\n",
    "\n",
    "bigram_model = {}\n",
    "bigram_tokens = list(bigrams(training))\n",
    "for token in bigram_tokens:\n",
    "    bigram_model[token] = bigram_model.get(token, 0) + 1"
   ]
  },
  {
   "cell_type": "markdown",
   "metadata": {},
   "source": [
    "#### Testing"
   ]
  },
  {
   "cell_type": "code",
   "execution_count": 10,
   "metadata": {},
   "outputs": [
    {
     "data": {
      "text/plain": [
       "9.272041703583129e-05"
      ]
     },
     "execution_count": 10,
     "metadata": {},
     "output_type": "execute_result"
    }
   ],
   "source": [
    "from __future__ import division\n",
    "\n",
    "bigram_model.get(('they', 'are'), 0) / len(bigram_tokens)"
   ]
  },
  {
   "cell_type": "markdown",
   "metadata": {},
   "source": [
    "### Trigram"
   ]
  },
  {
   "cell_type": "code",
   "execution_count": 11,
   "metadata": {},
   "outputs": [],
   "source": [
    "from nltk import trigrams\n",
    "from itertools import product\n",
    "\n",
    "trigram_model = {}\n",
    "trigram_tokens = list(trigrams(training))\n",
    "for token in trigram_tokens:\n",
    "    trigram_model[token] = trigram_model.get(token, 0) + 1"
   ]
  },
  {
   "cell_type": "code",
   "execution_count": 12,
   "metadata": {},
   "outputs": [
    {
     "data": {
      "text/plain": [
       "3.4341013128569318e-06"
      ]
     },
     "execution_count": 12,
     "metadata": {},
     "output_type": "execute_result"
    }
   ],
   "source": [
    "from __future__ import division\n",
    "\n",
    "trigram_model.get(('here', 'it', 'is'), 0) / len(trigram_tokens)"
   ]
  }
 ],
 "metadata": {
  "kernelspec": {
   "display_name": "Python 2",
   "language": "python",
   "name": "python2"
  },
  "language_info": {
   "codemirror_mode": {
    "name": "ipython",
    "version": 2
   },
   "file_extension": ".py",
   "mimetype": "text/x-python",
   "name": "python",
   "nbconvert_exporter": "python",
   "pygments_lexer": "ipython2",
   "version": "2.7.14"
  }
 },
 "nbformat": 4,
 "nbformat_minor": 2
}
