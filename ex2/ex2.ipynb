{
 "cells": [
  {
   "cell_type": "markdown",
   "metadata": {},
   "source": [
    "# Ex2"
   ]
  },
  {
   "cell_type": "markdown",
   "metadata": {},
   "source": [
    "## Q1"
   ]
  },
  {
   "cell_type": "markdown",
   "metadata": {},
   "source": [
    "TBD"
   ]
  },
  {
   "cell_type": "markdown",
   "metadata": {},
   "source": [
    "## Q2"
   ]
  },
  {
   "cell_type": "markdown",
   "metadata": {},
   "source": [
    "TBD"
   ]
  },
  {
   "cell_type": "markdown",
   "metadata": {},
   "source": [
    "## Q3"
   ]
  },
  {
   "cell_type": "markdown",
   "metadata": {},
   "source": [
    "TBD"
   ]
  },
  {
   "cell_type": "markdown",
   "metadata": {},
   "source": [
    "## Q4"
   ]
  },
  {
   "cell_type": "markdown",
   "metadata": {},
   "source": [
    "### Get Corpus and Dictionary"
   ]
  },
  {
   "cell_type": "code",
   "execution_count": 1,
   "metadata": {},
   "outputs": [],
   "source": [
    "import urllib2\n",
    "import zipfile\n",
    "import os\n",
    "\n",
    "data_folder = 'corpus_combined'\n",
    "corpus_file = data_folder + '.zip'\n",
    "\n",
    "if not os.path.exists(data_folder):\n",
    "    os.makedirs(data_folder)\n",
    "    \n",
    "zipcontent = urllib2.urlopen('http://www2.mta.ac.il/~gideon/courses/nlp/data/' + corpus_file).read()\n",
    "with open(corpus_file, 'w') as f:\n",
    "    f.write(zipcontent)\n",
    "zip_ref = zipfile.ZipFile(corpus_file, 'r')\n",
    "zip_ref.extractall(data_folder)\n",
    "zip_ref.close()\n",
    "os.remove(corpus_file)\n",
    "\n",
    "response = urllib2.urlopen('http://www2.mta.ac.il/~gideon/courses/nlp/data/word_list_20k.txt')\n",
    "dictionary = response.read().split('\\n')\n",
    "dictionary.remove('')"
   ]
  },
  {
   "cell_type": "markdown",
   "metadata": {},
   "source": [
    "### Prepare training and test set"
   ]
  },
  {
   "cell_type": "code",
   "execution_count": 2,
   "metadata": {},
   "outputs": [],
   "source": [
    "import urllib2\n",
    "\n",
    "# training\n",
    "kidnapped = urllib2.urlopen('http://www.gutenberg.org/files/421/421-0.txt').read().decode('utf8')\n",
    "oliver_twist = urllib2.urlopen('http://www.gutenberg.org/ebooks/730.txt.utf-8').read().decode('utf8')\n",
    "training_set = [kidnapped, oliver_twist]\n",
    "\n",
    "# validation\n",
    "a_tail_of_two_cities = urllib2.urlopen('http://www.gutenberg.org/files/98/98-0.txt').read().decode('utf8')\n",
    "validation_set = [a_tail_of_two_cities]\n",
    "\n",
    "# testing\n",
    "persuasion = open(data_folder + '/persuasion.txt', 'r').read()\n",
    "testing_set = [persuasion]"
   ]
  },
  {
   "cell_type": "markdown",
   "metadata": {},
   "source": [
    "### Hyperparameter Tuning"
   ]
  },
  {
   "cell_type": "code",
   "execution_count": 3,
   "metadata": {},
   "outputs": [],
   "source": [
    "hyperparameters = {\n",
    "    'lowercase': True,\n",
    "    'stemming': False,\n",
    "    'remove_stopwords': False\n",
    "}"
   ]
  },
  {
   "cell_type": "markdown",
   "metadata": {},
   "source": [
    "### Pre-Processing"
   ]
  },
  {
   "cell_type": "code",
   "execution_count": 4,
   "metadata": {},
   "outputs": [],
   "source": [
    "from chapterize import Book\n",
    "from nltk.tokenize import word_tokenize\n",
    "\n",
    "OOV = 'OOV'\n",
    "NUM = 'NUM'\n",
    "\n",
    "# removing header, footer and chapters\n",
    "training = ''\n",
    "for book in training_set:\n",
    "    training += Book(book).getContent() + ' '\n",
    "validation = ''\n",
    "for book in validation_set:\n",
    "    validation += Book(book).getContent() + ' '\n",
    "testing = ''\n",
    "for book in testing_set:\n",
    "    testing += Book(book).getContent() + ' '\n",
    "\n",
    "# lowercasing\n",
    "if hyperparameters['lowercase']:\n",
    "    training = training.lower()\n",
    "    validation = validation.lower()\n",
    "    testing = testing.lower()\n",
    "    dictionary = [word.lower() for word in dictionary]\n",
    "    \n",
    "# tokenizing\n",
    "training = word_tokenize(training)\n",
    "validation = word_tokenize(validation)\n",
    "testing = word_tokenize(testing)\n",
    "\n",
    "# removing stopwords\n",
    "if hyperparameters['remove_stopwords']:\n",
    "    from nltk.corpus import stopwords\n",
    "    \n",
    "    stopwords_set = set(stopwords.words('english'))\n",
    "    training = [token for token in training if token not in stopwords_set]\n",
    "    validation = [token for token in validation if token not in stopwords_set]\n",
    "    testing = [token for token in testing if token not in stopwords_set]\n",
    "    dictionary = [word for word in dictionary if word not in stopwords_set]\n",
    "    \n",
    "# stemming\n",
    "if hyperparameters['stemming']:\n",
    "    from nltk.stem import PorterStemmer\n",
    "    \n",
    "    ps = PorterStemmer()\n",
    "    training = [ps.stem(token) for token in training]\n",
    "    validation = [ps.stem(token) for token in validation]\n",
    "    testing = [ps.stem(token) for token in testing]\n",
    "    dictionary = [ps.stem(word) for word in dictionary]\n",
    "\n",
    "dictionary.append(OOV)\n",
    "dictionary.append(NUM)\n",
    "\n",
    "# replacing OOV and NUM tokens\n",
    "missing_tokens = set([token for token in training if token not in dictionary])\n",
    "for (i, token) in enumerate(training):\n",
    "    if token in missing_tokens:\n",
    "        if token.isdigit():\n",
    "            training[i] = NUM\n",
    "        else:\n",
    "            training[i] = OOV\n",
    "            \n",
    "missing_tokens = set([token for token in validation if token not in dictionary])\n",
    "for (i, token) in enumerate(validation):\n",
    "    if token in missing_tokens:\n",
    "        if token.isdigit():\n",
    "            validation[i] = NUM\n",
    "        else:\n",
    "            validation[i] = OOV\n",
    "\n",
    "missing_tokens = set([token for token in testing if token not in dictionary])\n",
    "for (i, token) in enumerate(testing):\n",
    "    if token in missing_tokens:\n",
    "        if token.isdigit():\n",
    "            testing[i] = NUM\n",
    "        else:\n",
    "            testing[i] = OOV"
   ]
  },
  {
   "cell_type": "markdown",
   "metadata": {},
   "source": [
    "### Training"
   ]
  },
  {
   "cell_type": "code",
   "execution_count": 56,
   "metadata": {},
   "outputs": [],
   "source": [
    "def train_ngram_model(tokens):\n",
    "    model = {}\n",
    "    for token in tokens:\n",
    "        model[token] = model.get(token, 0) + 1\n",
    "    return model"
   ]
  },
  {
   "cell_type": "code",
   "execution_count": 57,
   "metadata": {},
   "outputs": [],
   "source": [
    "from nltk import bigrams, trigrams\n",
    "\n",
    "# unigram\n",
    "unigram_model = train_ngram_model(training)\n",
    "\n",
    "# bigram\n",
    "bigram_model = train_ngram_model(list(bigrams(training)))\n",
    "\n",
    "# unigram\n",
    "trigram_model = train_ngram_model(list(trigrams(training)))"
   ]
  },
  {
   "cell_type": "markdown",
   "metadata": {},
   "source": [
    "### Validation"
   ]
  },
  {
   "cell_type": "code",
   "execution_count": null,
   "metadata": {},
   "outputs": [],
   "source": [
    "import math\n",
    "\n",
    "from nltk import bigrams, trigrams\n",
    "\n",
    "# unigram\n",
    "result = 1 / len(validation) * sum([-math.log(unigram_model[token] / len(validation), 2) \n",
    "                                 for token in validation if token in unigram_model and unigram_model[token] > 0])\n",
    "print 'Validation Unigram Cross-Entropy is:', '{0:.2f}'.format(result)\n",
    "\n",
    "# bigram\n",
    "bigram_tokens = list(bigrams(validation))\n",
    "result = 1 / len(bigram_tokens) * sum([-math.log(bigram_model[token] / len(bigram_tokens), 2) \n",
    "                                 for token in bigram_tokens \n",
    "                                       if token in bigram_model and bigram_model[token] > 0])\n",
    "print 'Validation Bigram Cross-Entropy is:', '{0:.2f}'.format(result)\n",
    "\n",
    "trigram_tokens = list(trigrams(validation))\n",
    "result = 1 / len(trigram_tokens) * sum([-math.log(trigram_model[token] / len(trigram_tokens), 2) \n",
    "                                 for token in trigram_tokens \n",
    "                                        if token in trigram_model and trigram_model[token] > 0])\n",
    "print 'Validation Trigram Cross-Entropy is:', '{0:.2f}'.format(result)"
   ]
  },
  {
   "cell_type": "markdown",
   "metadata": {},
   "source": [
    "### Testing"
   ]
  },
  {
   "cell_type": "code",
   "execution_count": 58,
   "metadata": {},
   "outputs": [
    {
     "name": "stdout",
     "output_type": "stream",
     "text": [
      "Unigram Cross-Entropy is: 6.55\n",
      "Bigram Cross-Entropy is: 8.01\n",
      "Trigram Cross-Entropy is: 4.51\n"
     ]
    }
   ],
   "source": [
    "import math\n",
    "\n",
    "from nltk import bigrams, trigrams\n",
    "\n",
    "# unigram\n",
    "result = 1 / len(testing) * sum([-math.log(unigram_model[token] / len(testing), 2) \n",
    "                                 for token in testing if token in unigram_model and unigram_model[token] > 0])\n",
    "print 'Testing Unigram Cross-Entropy is:', '{0:.2f}'.format(result)\n",
    "\n",
    "# bigram\n",
    "bigram_tokens = list(bigrams(testing))\n",
    "result = 1 / len(bigram_tokens) * sum([-math.log(bigram_model[token] / len(bigram_tokens), 2) \n",
    "                                 for token in bigram_tokens \n",
    "                                       if token in bigram_model and bigram_model[token] > 0])\n",
    "print 'Testing Bigram Cross-Entropy is:', '{0:.2f}'.format(result)\n",
    "\n",
    "trigram_tokens = list(trigrams(testing))\n",
    "result = 1 / len(trigram_tokens) * sum([-math.log(trigram_model[token] / len(trigram_tokens), 2) \n",
    "                                 for token in trigram_tokens \n",
    "                                        if token in trigram_model and trigram_model[token] > 0])\n",
    "print 'Testing Trigram Cross-Entropy is:', '{0:.2f}'.format(result)"
   ]
  }
 ],
 "metadata": {
  "kernelspec": {
   "display_name": "Python 2",
   "language": "python",
   "name": "python2"
  },
  "language_info": {
   "codemirror_mode": {
    "name": "ipython",
    "version": 2
   },
   "file_extension": ".py",
   "mimetype": "text/x-python",
   "name": "python",
   "nbconvert_exporter": "python",
   "pygments_lexer": "ipython2",
   "version": "2.7.14"
  }
 },
 "nbformat": 4,
 "nbformat_minor": 2
}
